{
 "cells": [
  {
   "source": [
    "# Preparing Data for Database Loading\n",
    "- Data acquisition utilizing ```nba_api``` Python wrapper\n",
    "- Data cleaning\n",
    "- Data organization/modeling for NoSQL database"
   ],
   "cell_type": "markdown",
   "metadata": {}
  },
  {
   "source": [
    "## Retrieving All NBA Teams\n",
    "- Load all NBA teams from static module from ```nba_api```"
   ],
   "cell_type": "markdown",
   "metadata": {}
  },
  {
   "source": [
    "from nba_api.stats.static import teams as tm\n",
    "\n",
    "teams = tm.get_teams()\n",
    "print(teams[0])"
   ],
   "cell_type": "code",
   "metadata": {},
   "execution_count": 1,
   "outputs": [
    {
     "output_type": "stream",
     "name": "stdout",
     "text": [
      "{'id': 1610612737, 'full_name': 'Atlanta Hawks', 'abbreviation': 'ATL', 'nickname': 'Hawks', 'city': 'Atlanta', 'state': 'Atlanta', 'year_founded': 1949}\n"
     ]
    }
   ]
  },
  {
   "source": [
    "### Fixing Errors in Data\n",
    "- As seen above there are incorrect values in the data from the ```nba_api``` static module (i.e. ```'state': 'Atlanta'```)\n",
    "- Data will be manually cleaned"
   ],
   "cell_type": "markdown",
   "metadata": {}
  },
  {
   "cell_type": "code",
   "execution_count": 2,
   "metadata": {},
   "outputs": [],
   "source": [
    "# Set values in team dictionaries\n",
    "teams[0]['state'] = 'Georgia'\n",
    "teams[7]['city'] = 'San Francisco'\n",
    "teams[13]['city'] = 'Minneapolis'\n",
    "teams[17]['city'] = 'Indianapolis'\n",
    "teams[25]['city'] = 'Salt Lake City'"
   ]
  },
  {
   "source": [
    "## NoSQL Schema (BigQuery)\n",
    "Schema in ```nosql_schema.json```:\n",
    "- ```id```\n",
    "- ```full_name```\n",
    "- ```abbreviation```\n",
    "- ```nickname```\n",
    "- ```city```\n",
    "- ```state```\n",
    "- ```games``` (nested and repeated field)\n",
    "    - ```games.game_id```\n",
    "    - ```games.date```\n",
    "    - ```games.is_home```\n",
    "    - ```games.opponent```\n",
    "    - ```games.shots``` (nested and repeated field)\n",
    "        - ```games.shots.shot_number```\n",
    "        - ```games.shots.player_id```\n",
    "        - ```games.shots.period```\n",
    "        - ```games.shots.play_clock```\n",
    "        - ```games.shots.time_elapsed```\n",
    "        - ```games.shots.shot_type```\n",
    "        - ```games.shots.range```\n",
    "        - ```games.shots.is_make```"
   ],
   "cell_type": "markdown",
   "metadata": {}
  },
  {
   "source": [
    "### Retrieving and Organizing Data According to Schema\n",
    "- Class objects (```models.py```) were created to encapsulate data\n",
    "- Note: script will insert all plays of all games into ```Team``` object"
   ],
   "cell_type": "markdown",
   "metadata": {}
  },
  {
   "cell_type": "code",
   "execution_count": 3,
   "metadata": {
    "ExecuteTime": {
     "end_time": "2021-06-09T23:45:33.077760Z",
     "start_time": "2021-06-09T23:45:31.091216Z"
    }
   },
   "outputs": [],
   "source": [
    "from nba_api.stats.endpoints import teamgamelog as tgl\n",
    "from nba_api.stats.endpoints import playbyplayv2 as pbp\n",
    "\n",
    "from models import Shot, Game, Team"
   ]
  },
  {
   "cell_type": "code",
   "execution_count": 4,
   "metadata": {},
   "outputs": [
    {
     "output_type": "execute_result",
     "data": {
      "text/plain": [
       "{'id': 1610612737,\n",
       " 'full_name': 'Atlanta Hawks',\n",
       " 'abbreviation': 'ATL',\n",
       " 'nickname': 'Hawks',\n",
       " 'city': 'Atlanta',\n",
       " 'state': 'Georgia',\n",
       " 'games': []}"
      ]
     },
     "metadata": {},
     "execution_count": 4
    }
   ],
   "source": [
    "# Set team\n",
    "team = Team(teams[0])\n",
    "\n",
    "dict(team)"
   ]
  },
  {
   "cell_type": "code",
   "execution_count": 5,
   "metadata": {},
   "outputs": [],
   "source": [
    "# Retrieve all games for team in the season (most recent by default)\n",
    "games = tgl.TeamGameLog(team.id).get_normalized_dict()['TeamGameLog']"
   ]
  },
  {
   "cell_type": "code",
   "execution_count": 6,
   "metadata": {},
   "outputs": [
    {
     "output_type": "execute_result",
     "data": {
      "text/plain": [
       "{'game_id': '0022001066',\n",
       " 'date': datetime.date(2021, 5, 16),\n",
       " 'is_home': True,\n",
       " 'opponent': 'HOU',\n",
       " 'shots': []}"
      ]
     },
     "metadata": {},
     "execution_count": 6
    }
   ],
   "source": [
    "game = Game(games[0])\n",
    "\n",
    "dict(game)"
   ]
  },
  {
   "cell_type": "code",
   "execution_count": 7,
   "metadata": {},
   "outputs": [
    {
     "output_type": "execute_result",
     "data": {
      "text/plain": [
       "{'shot_number': 1,\n",
       " 'player_id': 1629631,\n",
       " 'period': 1,\n",
       " 'play_clock': '11:33',\n",
       " 'time_elapsed': '0:27',\n",
       " 'shot_type': '2PT',\n",
       " 'range': 21,\n",
       " 'is_make': True}"
      ]
     },
     "metadata": {},
     "execution_count": 7
    }
   ],
   "source": [
    "# Retrieve all plays from game\n",
    "plays = pbp.PlayByPlayV2(game.game_id).get_normalized_dict()['PlayByPlay']\n",
    "\n",
    "# Insert plays that are shots\n",
    "game.insert_shots(plays)\n",
    "\n",
    "dict(game)['shots'][0]"
   ]
  },
  {
   "cell_type": "code",
   "execution_count": 10,
   "metadata": {},
   "outputs": [
    {
     "output_type": "execute_result",
     "data": {
      "text/plain": [
       "{'shot_number': 90,\n",
       " 'player_id': 1630233,\n",
       " 'period': 4,\n",
       " 'play_clock': '0:18',\n",
       " 'time_elapsed': '47:42',\n",
       " 'shot_type': '2PT',\n",
       " 'range': 1,\n",
       " 'is_make': True}"
      ]
     },
     "metadata": {},
     "execution_count": 10
    }
   ],
   "source": [
    "# Insert game into team object\n",
    "team.insert_game(dict(game))\n",
    "\n",
    "dict(team)['games'][0]['shots'][-1]"
   ]
  }
 ],
 "metadata": {
  "kernelspec": {
   "name": "python395jvsc74a57bd0a0477e38915037360aaf688dc9b35f046c53c668b323fd48ed6c2df50044f9ca",
   "display_name": "Python 3.9.5 64-bit ('nba': conda)"
  },
  "language_info": {
   "codemirror_mode": {
    "name": "ipython",
    "version": 3
   },
   "file_extension": ".py",
   "mimetype": "text/x-python",
   "name": "python",
   "nbconvert_exporter": "python",
   "pygments_lexer": "ipython3",
   "version": "3.9.5"
  },
  "toc": {
   "base_numbering": 1,
   "nav_menu": {},
   "number_sections": true,
   "sideBar": true,
   "skip_h1_title": false,
   "title_cell": "Table of Contents",
   "title_sidebar": "Contents",
   "toc_cell": false,
   "toc_position": {},
   "toc_section_display": true,
   "toc_window_display": false
  }
 },
 "nbformat": 4,
 "nbformat_minor": 2
}